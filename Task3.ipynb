{
 "cells": [
  {
   "cell_type": "markdown",
   "id": "7590f8f6-56db-4ce6-b366-fcc7402dab1a",
   "metadata": {},
   "source": [
    "# Task 3 - Exploratory Data Project "
   ]
  },
  {
   "cell_type": "markdown",
   "id": "b78d5f9e-94a4-4a4d-8102-77f000083ef1",
   "metadata": {},
   "source": [
    "Desiree Thompson - February 20, 2023"
   ]
  },
  {
   "cell_type": "markdown",
   "id": "bbc988de-68d9-4b90-8350-132700d91ac8",
   "metadata": {},
   "source": [
    "Utilizing lesson learned to conduct a unique data exploration project using information related to my domain"
   ]
  },
  {
   "cell_type": "markdown",
   "id": "103e539e-d510-490f-a54e-e169e401cd92",
   "metadata": {},
   "source": [
    "### Importing libraries to be used"
   ]
  },
  {
   "cell_type": "code",
   "execution_count": 1,
   "id": "bc163fef-98da-4cc5-b9d3-d2ad54695bf3",
   "metadata": {},
   "outputs": [],
   "source": [
    "import pandas as pd\n",
    "import matplotlib.pyplot as plt\n",
    "%matplotlib inline\n",
    "import seaborn\n",
    "import numpy as np\n",
    "from os import path\n",
    "from PIL import Image\n",
    "from wordcloud import WordCloud, STOPWORDS, ImageColorGenerator"
   ]
  },
  {
   "cell_type": "markdown",
   "id": "9502fd23-c1f8-4bae-9090-23a7c4659cc7",
   "metadata": {},
   "source": [
    "## Loading .csv file into the DataFrame"
   ]
  },
  {
   "cell_type": "code",
   "execution_count": 2,
   "id": "c0a9b074-ff48-4bed-8078-972613e54dab",
   "metadata": {},
   "outputs": [],
   "source": [
    "df = pd.read_csv('dog_breeds.csv', index_col=0)"
   ]
  },
  {
   "cell_type": "markdown",
   "id": "92d39607-5451-4fa9-9e4e-cdee14d977f0",
   "metadata": {},
   "source": [
    "## Columns in Dataset"
   ]
  },
  {
   "cell_type": "code",
   "execution_count": 3,
   "id": "d0c79c05-5693-42c5-b7e5-a41db7bc24ee",
   "metadata": {},
   "outputs": [
    {
     "data": {
      "text/plain": [
       "Index(['Country of Origin', 'Fur Color', 'Height (in)', 'Color of Eyes',\n",
       "       'Longevity (yrs)', 'Character Traits', 'Common Health Problems'],\n",
       "      dtype='object')"
      ]
     },
     "execution_count": 3,
     "metadata": {},
     "output_type": "execute_result"
    }
   ],
   "source": [
    "df.columns"
   ]
  },
  {
   "cell_type": "markdown",
   "id": "3b0dbae3-b27b-43c9-b878-bd82ababeb9a",
   "metadata": {},
   "source": [
    "## Decriptive statistics for Dataset"
   ]
  },
  {
   "cell_type": "code",
   "execution_count": 4,
   "id": "a461d61a-601d-4696-a384-696eff49e3eb",
   "metadata": {},
   "outputs": [
    {
     "data": {
      "text/html": [
       "<div>\n",
       "<style scoped>\n",
       "    .dataframe tbody tr th:only-of-type {\n",
       "        vertical-align: middle;\n",
       "    }\n",
       "\n",
       "    .dataframe tbody tr th {\n",
       "        vertical-align: top;\n",
       "    }\n",
       "\n",
       "    .dataframe thead th {\n",
       "        text-align: right;\n",
       "    }\n",
       "</style>\n",
       "<table border=\"1\" class=\"dataframe\">\n",
       "  <thead>\n",
       "    <tr style=\"text-align: right;\">\n",
       "      <th></th>\n",
       "      <th>Country of Origin</th>\n",
       "      <th>Fur Color</th>\n",
       "      <th>Height (in)</th>\n",
       "      <th>Color of Eyes</th>\n",
       "      <th>Longevity (yrs)</th>\n",
       "      <th>Character Traits</th>\n",
       "      <th>Common Health Problems</th>\n",
       "    </tr>\n",
       "  </thead>\n",
       "  <tbody>\n",
       "    <tr>\n",
       "      <th>count</th>\n",
       "      <td>117</td>\n",
       "      <td>117</td>\n",
       "      <td>117</td>\n",
       "      <td>117</td>\n",
       "      <td>117</td>\n",
       "      <td>117</td>\n",
       "      <td>117</td>\n",
       "    </tr>\n",
       "    <tr>\n",
       "      <th>unique</th>\n",
       "      <td>27</td>\n",
       "      <td>69</td>\n",
       "      <td>67</td>\n",
       "      <td>4</td>\n",
       "      <td>15</td>\n",
       "      <td>38</td>\n",
       "      <td>30</td>\n",
       "    </tr>\n",
       "    <tr>\n",
       "      <th>top</th>\n",
       "      <td>England</td>\n",
       "      <td>White</td>\n",
       "      <td>10-12</td>\n",
       "      <td>Brown</td>\n",
       "      <td>12-15</td>\n",
       "      <td>Intelligent, energetic, playful, good-natured</td>\n",
       "      <td>Dental problems, eye issues, skin allergies</td>\n",
       "    </tr>\n",
       "    <tr>\n",
       "      <th>freq</th>\n",
       "      <td>24</td>\n",
       "      <td>9</td>\n",
       "      <td>8</td>\n",
       "      <td>108</td>\n",
       "      <td>44</td>\n",
       "      <td>50</td>\n",
       "      <td>59</td>\n",
       "    </tr>\n",
       "  </tbody>\n",
       "</table>\n",
       "</div>"
      ],
      "text/plain": [
       "       Country of Origin Fur Color Height (in) Color of Eyes Longevity (yrs)  \\\n",
       "count                117       117         117           117             117   \n",
       "unique                27        69          67             4              15   \n",
       "top              England     White       10-12         Brown           12-15   \n",
       "freq                  24         9           8           108              44   \n",
       "\n",
       "                                     Character Traits  \\\n",
       "count                                             117   \n",
       "unique                                             38   \n",
       "top     Intelligent, energetic, playful, good-natured   \n",
       "freq                                               50   \n",
       "\n",
       "                             Common Health Problems  \n",
       "count                                           117  \n",
       "unique                                           30  \n",
       "top     Dental problems, eye issues, skin allergies  \n",
       "freq                                             59  "
      ]
     },
     "execution_count": 4,
     "metadata": {},
     "output_type": "execute_result"
    }
   ],
   "source": [
    "df.describe()"
   ]
  },
  {
   "cell_type": "markdown",
   "id": "ad77be96-2f79-4745-8d15-47d3676c6e5c",
   "metadata": {
    "tags": []
   },
   "source": [
    "## Unique values contained in Dataset"
   ]
  },
  {
   "cell_type": "code",
   "execution_count": 5,
   "id": "19195cc8-8a23-470e-9990-2c8787f4a5dc",
   "metadata": {},
   "outputs": [
    {
     "data": {
      "text/plain": [
       "[array(['Canada', 'Germany', 'England', 'France', 'Mexico', 'Scotland',\n",
       "        'China', 'Russia', 'Australia', 'Switzerland', 'Ireland',\n",
       "        'Belgium', 'Rhodesia', 'United States', 'Madagascar', 'Italy',\n",
       "        'Wales', 'Middle East', 'Finland', 'Japan', 'Netherlands',\n",
       "        'Hungary', 'Tibet', 'Malta', 'Turkey', 'Africa', 'Congo'],\n",
       "       dtype=object),\n",
       " array(['Yellow, Black, Chocolate', 'Black, Tan', 'White, Red',\n",
       "        'White, Black, Brown, Apricot', 'White, Tan, Red, Lemon',\n",
       "        'Black, Brown, Tan, White', 'Fawn, Brindle', 'Golden',\n",
       "        'Fawn, Black', 'Black, White', 'Black, White, Brown', 'White',\n",
       "        'Black, Red', 'Black, Brown', 'White, Black, Brindle',\n",
       "        'Orange, Sable, Black', 'Black, Blue, Fawn, Harlequin',\n",
       "        'Apricot, Fawn', 'Black, Brown, Grey', 'Red, White', 'Blue, Grey',\n",
       "        'Grey, Red, Black', 'Black, White, Brindle', 'Cream, Fawn',\n",
       "        'Silver, Grey', 'Fawn, Mahogany', 'Light Wheaten',\n",
       "        'Black, White, Liver', 'Red', 'White, Black, Sable, Red',\n",
       "        'Black, White, Red', 'Black, Brown, Red', 'Black, Wheaten, Red',\n",
       "        'Pink, White, Black', 'Black, Salt & Pepper, White',\n",
       "        'Black, Salt & Pepper', 'Red, Black & Tan', 'Red, Wheaten, Black',\n",
       "        'White, Blenheim', 'Red, Black', 'Black, Fawn', 'Blue, Red',\n",
       "        'Blue Merle', 'White, Cream, Red', 'Red, Sable, Black',\n",
       "        'Brown, Tan', 'Cream, Red', 'Liver, Blue', 'Black, Liver',\n",
       "        'Red, Golden', 'Gold', 'White, Black, Red', 'Brown', 'Grey, Red',\n",
       "        'White, Black & Tan', 'Black, Cream', 'Blue', 'Red, Stag Red',\n",
       "        'Sable, Black', 'Fawn', 'Red, Sable', 'Liver, White',\n",
       "        'Brown, White', 'Blue & Tan', 'Red, Fawn, Sesame', 'Brown, Red',\n",
       "        'Red, Black & White', 'Merle, Black', 'Red, Sesame'], dtype=object),\n",
       " array(['21-24', '22-26', '12-16', '10-15', '13-15', '6-9', '21-25',\n",
       "        '10-14', '22-27', '5-9', '9-10', '9-11', '18-23', '11-15', '14-15',\n",
       "        '11-12', '6-7', '28-34', '30-34', '26-28', '26-30', '30-35',\n",
       "        '28-32', '25-32', '18-20', '24-28', '25-29', '25-27', '23-27',\n",
       "        '21-27', '8-11', '10-11', '15-22', '15-17', '7-10', '10-12',\n",
       "        '11-13', '12-14', '10-16', '17-20', '15-19', '18-22', '20-23',\n",
       "        '20-28', '26-29', '20-22', '22-28', '21-26', '23-28', '20-24',\n",
       "        '15-18', '15-20', '22-25', '25-28', '24-27', '18-21', '14-16',\n",
       "        '7-11', '17-19', '8-10', '21-23', '13-16', '27-29', '20-25', '7-8',\n",
       "        '16-17', '20-26'], dtype=object),\n",
       " array(['Brown', 'Brown, Blue', 'Blue', 'Blue, Grey'], dtype=object),\n",
       " array(['10-12', '7-10', '8-10', '12-15', '12-20', '10-16', '12-16',\n",
       "        '9-11', '6-8', '8-12', '12-14', '14-16', '11-13', '13-18', '6-10'],\n",
       "       dtype=object),\n",
       " array(['Loyal, friendly, intelligent, energetic, good-natured',\n",
       "        'Loyal, intelligent, protective, confident, trainable',\n",
       "        'Loyal, calm, gentle, brave',\n",
       "        'Intelligent, active, affectionate, hypoallergenic',\n",
       "        'Curious, friendly, energetic, good-natured',\n",
       "        'Loyal, energetic, confident, sensitive',\n",
       "        'Loyal, energetic, intelligent, playful, protective',\n",
       "        'Intelligent, friendly, kind, loyal, good-natured',\n",
       "        'Loyal, playful, affectionate, social, charming',\n",
       "        'Loyal, protective, confident, strong',\n",
       "        'Independent, energetic, intelligent, playful, strong',\n",
       "        'Loyal, energetic, playful, curious',\n",
       "        'Affectionate, playful, confident, good-natured',\n",
       "        'Playful, affectionate, intelligent, social',\n",
       "        'Intelligent, energetic, loyal, trainable',\n",
       "        'Affectionate, patient, gentle, good-natured',\n",
       "        'Affectionate, intelligent, energetic, good-natured',\n",
       "        'Affectionate, playful, good-natured',\n",
       "        'Playful, energetic, intelligent, good-natured',\n",
       "        'Gentle, loyal, intelligent, good-natured',\n",
       "        'Loyal, gentle, protective, good-natured',\n",
       "        'Loyal, intelligent, gentle, good-natured',\n",
       "        'Loyal, intelligent, gentle, protective',\n",
       "        'Gentle, intelligent, good-natured, protective',\n",
       "        'Intelligent, athletic, sensitive, good-natured',\n",
       "        'Gentle, intelligent, good-natured, independent',\n",
       "        'Independent, loyal, intelligent, good-natured',\n",
       "        'Loyal, energetic, intelligent, protective',\n",
       "        'Energetic, intelligent, good-natured, loyal',\n",
       "        'Intelligent, energetic, loyal, protective',\n",
       "        'Intelligent, athletic, loyal, good-natured',\n",
       "        'Intelligent, energetic, affectionate, good-natured',\n",
       "        'Intelligent, energetic, good-natured, affectionate',\n",
       "        'Independent, intelligent, affectionate, good-natured',\n",
       "        'Intelligent, energetic, playful, good-natured',\n",
       "        'Intelligent, energetic, good-natured, loyal',\n",
       "        'Gentle, good-natured, loyal, intelligent',\n",
       "        'Loyal, intelligent, good-natured, energetic'], dtype=object),\n",
       " array(['Hip dysplasia, obesity, ear infections',\n",
       "        'Hip dysplasia, elbow dysplasia, pancreatitis',\n",
       "        'Skin allergies, respiratory issues, obesity',\n",
       "        'Hip dysplasia, epilepsy, bladder stones',\n",
       "        'Ear infections, hip dysplasia, epilepsy',\n",
       "        'Dental problems, eye issues, respiratory issues',\n",
       "        'Hip dysplasia, cancer, heart conditions',\n",
       "        'Hip dysplasia, cancer, skin allergies',\n",
       "        'Eye problems, respiratory issues, obesity',\n",
       "        'Hip dysplasia, cancer, elbow dysplasia',\n",
       "        'Hip dysplasia, eye problems, hereditary myopathy',\n",
       "        'Intervertebral disc disease, hip dysplasia, diabetes',\n",
       "        'Dental problems, respiratory issues, eye problems',\n",
       "        'Dental problems, eye problems, bladder stones',\n",
       "        'Hip dysplasia, eye problems, epilepsy',\n",
       "        'Dental problems, ear infections, obesity',\n",
       "        'Ear infections, hip dysplasia, eye problems',\n",
       "        'Breathing problems, eye problems, hip dysplasia',\n",
       "        'Dental problems, eye problems, obesity',\n",
       "        'Hip dysplasia, heart conditions, cancer',\n",
       "        'Hip dysplasia, eye problems, skin allergies',\n",
       "        'Hip dysplasia, eye problems, heart conditions',\n",
       "        'Skin allergies, eye problems, hip dysplasia',\n",
       "        'Hip dysplasia, eye problems, cancer',\n",
       "        'Dental problems, eye problems, skin allergies',\n",
       "        'Eye problems, respiratory issues, skin allergies',\n",
       "        'Dental problems, eye problems, respiratory issues',\n",
       "        'Dental problems, pancreatitis, diabetes',\n",
       "        'Dental problems, skin allergies, hip dysplasia',\n",
       "        'Dental problems, eye issues, skin allergies'], dtype=object)]"
      ]
     },
     "execution_count": 5,
     "metadata": {},
     "output_type": "execute_result"
    }
   ],
   "source": [
    "[df[col_name].unique() for col_name in df.columns]"
   ]
  },
  {
   "cell_type": "markdown",
   "id": "9ee99d79-c0e3-4205-9167-d463bd3929fa",
   "metadata": {},
   "source": [
    "## Creating Word Cloud (OPTIONAL BONUS)"
   ]
  },
  {
   "cell_type": "code",
   "execution_count": 6,
   "id": "fb738616-49c5-451e-9cfd-942577f14925",
   "metadata": {},
   "outputs": [
    {
     "data": {
      "text/html": [
       "<div>\n",
       "<style scoped>\n",
       "    .dataframe tbody tr th:only-of-type {\n",
       "        vertical-align: middle;\n",
       "    }\n",
       "\n",
       "    .dataframe tbody tr th {\n",
       "        vertical-align: top;\n",
       "    }\n",
       "\n",
       "    .dataframe thead th {\n",
       "        text-align: right;\n",
       "    }\n",
       "</style>\n",
       "<table border=\"1\" class=\"dataframe\">\n",
       "  <thead>\n",
       "    <tr style=\"text-align: right;\">\n",
       "      <th></th>\n",
       "      <th>Character Traits</th>\n",
       "    </tr>\n",
       "    <tr>\n",
       "      <th>Breed</th>\n",
       "      <th></th>\n",
       "    </tr>\n",
       "  </thead>\n",
       "  <tbody>\n",
       "    <tr>\n",
       "      <th>Labrador Retriever</th>\n",
       "      <td>Loyal, friendly, intelligent, energetic, good-...</td>\n",
       "    </tr>\n",
       "    <tr>\n",
       "      <th>German Shepherd</th>\n",
       "      <td>Loyal, intelligent, protective, confident, tra...</td>\n",
       "    </tr>\n",
       "    <tr>\n",
       "      <th>Bulldog</th>\n",
       "      <td>Loyal, calm, gentle, brave</td>\n",
       "    </tr>\n",
       "    <tr>\n",
       "      <th>Poodle</th>\n",
       "      <td>Intelligent, active, affectionate, hypoallergenic</td>\n",
       "    </tr>\n",
       "    <tr>\n",
       "      <th>Beagle</th>\n",
       "      <td>Curious, friendly, energetic, good-natured</td>\n",
       "    </tr>\n",
       "  </tbody>\n",
       "</table>\n",
       "</div>"
      ],
      "text/plain": [
       "                                                     Character Traits\n",
       "Breed                                                                \n",
       "Labrador Retriever  Loyal, friendly, intelligent, energetic, good-...\n",
       "German Shepherd     Loyal, intelligent, protective, confident, tra...\n",
       "Bulldog                                    Loyal, calm, gentle, brave\n",
       "Poodle              Intelligent, active, affectionate, hypoallergenic\n",
       "Beagle                     Curious, friendly, energetic, good-natured"
      ]
     },
     "execution_count": 6,
     "metadata": {},
     "output_type": "execute_result"
    }
   ],
   "source": [
    "df[['Character Traits']].head()"
   ]
  },
  {
   "cell_type": "markdown",
   "id": "f6a2c0fc-32ed-48ff-b342-7cc5e226ffb7",
   "metadata": {},
   "source": [
    "Created a string to store all the words from the Character Traits column in a single line of text"
   ]
  },
  {
   "cell_type": "code",
   "execution_count": 7,
   "id": "13fdc188-0ab9-4fba-bf37-d37fbccf4cc7",
   "metadata": {},
   "outputs": [],
   "source": [
    "text = ' '.join(review for review in df['Character Traits'].astype(str))"
   ]
  },
  {
   "cell_type": "markdown",
   "id": "e8db8246-f5b4-4345-b50b-d044069ad479",
   "metadata": {},
   "source": [
    "Printing the number of words that are in the text list that you just created from the Pandas column"
   ]
  },
  {
   "cell_type": "code",
   "execution_count": 8,
   "id": "ccb01e03-4896-40ae-aac8-d4d6d356fe75",
   "metadata": {},
   "outputs": [
    {
     "name": "stdout",
     "output_type": "stream",
     "text": [
      "There are 5316 words in the combination of all cells in the column Character Traits\n"
     ]
    }
   ],
   "source": [
    "print('There are {} words in the combination of all cells in the column Character Traits'.format(len(text)))"
   ]
  },
  {
   "cell_type": "markdown",
   "id": "6b965577-1df5-43c0-98b8-00c97f6e6a03",
   "metadata": {},
   "source": [
    "Filtering out commonly used word in the English language"
   ]
  },
  {
   "cell_type": "code",
   "execution_count": 9,
   "id": "715d56fa-9e20-4309-833e-0d56b41c0c42",
   "metadata": {},
   "outputs": [],
   "source": [
    "stopwords = set(STOPWORDS)"
   ]
  },
  {
   "cell_type": "markdown",
   "id": "761c1f70-ed3a-4165-8d8d-bac5bafe334f",
   "metadata": {},
   "source": [
    "Generating WorldCloud image"
   ]
  },
  {
   "cell_type": "code",
   "execution_count": 10,
   "id": "96678276-b081-4614-a795-8b01b8df4beb",
   "metadata": {},
   "outputs": [],
   "source": [
    "wordcloud = WordCloud(max_words= 1000, background_color='white').generate(text)"
   ]
  },
  {
   "cell_type": "markdown",
   "id": "83a322ff-dfb0-4339-ab91-1b0be9372bf3",
   "metadata": {},
   "source": [
    "Display WordCloud"
   ]
  },
  {
   "cell_type": "code",
   "execution_count": 11,
   "id": "3bb88299-309b-4ba8-b503-e5736d725064",
   "metadata": {},
   "outputs": [
    {
     "data": {
      "image/png": "[encoded data removed]",
      "text/plain": [
       "<Figure size 640x480 with 1 Axes>"
      ]
     },
     "metadata": {},
     "output_type": "display_data"
    }
   ],
   "source": [
    "plt.imshow(wordcloud, interpolation='bilinear')\n",
    "plt.axis('off')\n",
    "plt.show()"
   ]
  },
  {
   "cell_type": "markdown",
   "id": "548cd43e-365e-43e6-af63-0fa72a2faaba",
   "metadata": {
    "tags": []
   },
   "source": [
    "## Adjusting \"Longevity (yrs)\" Information"
   ]
  },
  {
   "cell_type": "markdown",
   "id": "04b2ca21-8ab2-4501-902d-ff060c8a8a15",
   "metadata": {},
   "source": [
    "Deconcatenate from \"Longevity (yrs)\" and established a \"Longevity (max)\" column in order to isolate the maximum age range for each breed"
   ]
  },
  {
   "cell_type": "code",
   "execution_count": 12,
   "id": "1914707e-73d7-458d-a565-8b01571b293f",
   "metadata": {},
   "outputs": [
    {
     "name": "stderr",
     "output_type": "stream",
     "text": [
      "C:\\Users\\Desiree\\AppData\\Local\\Temp\\ipykernel_23688\\2873940122.py:1: FutureWarning: The default value of regex will change from True to False in a future version.\n",
      "  df['Longevity (max)'] = df['Longevity (yrs)'].str.replace(r'\\d+-','')\n"
     ]
    }
   ],
   "source": [
    "df['Longevity (max)'] = df['Longevity (yrs)'].str.replace(r'\\d+-','')"
   ]
  },
  {
   "cell_type": "markdown",
   "id": "5f5f07d0-02ad-434f-894d-af1ca156bd97",
   "metadata": {},
   "source": [
    "Changed the \"Longevity (max)\" column to a numeric column"
   ]
  },
  {
   "cell_type": "code",
   "execution_count": 13,
   "id": "139975bd-25fd-4fec-90a6-5bbb199be5d5",
   "metadata": {},
   "outputs": [],
   "source": [
    "df[['Longevity (max)']] = df[['Longevity (max)']].apply(pd.to_numeric)"
   ]
  },
  {
   "cell_type": "markdown",
   "id": "fdb6ec0b-f95b-4f75-a37d-d2f686b46b91",
   "metadata": {},
   "source": [
    "Sorted the values in descending order"
   ]
  },
  {
   "cell_type": "code",
   "execution_count": 14,
   "id": "41e2fc5f-af2f-4499-b1f7-864e9bede718",
   "metadata": {},
   "outputs": [],
   "source": [
    "df = df.sort_values(['Longevity (max)'], ascending=[False])"
   ]
  },
  {
   "cell_type": "markdown",
   "id": "d32f7de2-5de4-4261-8a1f-18a562d6fed2",
   "metadata": {},
   "source": [
    "Filtered by \"Longevity (max)\" to show only the values greater than 12"
   ]
  },
  {
   "cell_type": "code",
   "execution_count": 15,
   "id": "711cf5db-1da0-420c-9ce8-fc8c6adefa01",
   "metadata": {},
   "outputs": [],
   "source": [
    "greater_than = df[df['Longevity (max)'] > 12]"
   ]
  },
  {
   "cell_type": "markdown",
   "id": "1bf8879c-07b7-4126-b186-bd3acbd3044a",
   "metadata": {},
   "source": [
    "Sample of data "
   ]
  },
  {
   "cell_type": "code",
   "execution_count": 16,
   "id": "0c088b1d-b7cb-4967-85b6-84b804d18e3d",
   "metadata": {},
   "outputs": [
    {
     "data": {
      "text/html": [
       "<div>\n",
       "<style scoped>\n",
       "    .dataframe tbody tr th:only-of-type {\n",
       "        vertical-align: middle;\n",
       "    }\n",
       "\n",
       "    .dataframe tbody tr th {\n",
       "        vertical-align: top;\n",
       "    }\n",
       "\n",
       "    .dataframe thead th {\n",
       "        text-align: right;\n",
       "    }\n",
       "</style>\n",
       "<table border=\"1\" class=\"dataframe\">\n",
       "  <thead>\n",
       "    <tr style=\"text-align: right;\">\n",
       "      <th></th>\n",
       "      <th>Country of Origin</th>\n",
       "      <th>Fur Color</th>\n",
       "      <th>Height (in)</th>\n",
       "      <th>Color of Eyes</th>\n",
       "      <th>Longevity (yrs)</th>\n",
       "      <th>Character Traits</th>\n",
       "      <th>Common Health Problems</th>\n",
       "      <th>Longevity (max)</th>\n",
       "    </tr>\n",
       "    <tr>\n",
       "      <th>Breed</th>\n",
       "      <th></th>\n",
       "      <th></th>\n",
       "      <th></th>\n",
       "      <th></th>\n",
       "      <th></th>\n",
       "      <th></th>\n",
       "      <th></th>\n",
       "      <th></th>\n",
       "    </tr>\n",
       "  </thead>\n",
       "  <tbody>\n",
       "    <tr>\n",
       "      <th>Chihuahua</th>\n",
       "      <td>Mexico</td>\n",
       "      <td>Black, Brown, Tan, White</td>\n",
       "      <td>6-9</td>\n",
       "      <td>Brown, Blue</td>\n",
       "      <td>12-20</td>\n",
       "      <td>Loyal, energetic, confident, sensitive</td>\n",
       "      <td>Dental problems, eye issues, respiratory issues</td>\n",
       "      <td>20</td>\n",
       "    </tr>\n",
       "    <tr>\n",
       "      <th>Chinese Crested</th>\n",
       "      <td>China</td>\n",
       "      <td>Pink, White, Black</td>\n",
       "      <td>11-13</td>\n",
       "      <td>Brown</td>\n",
       "      <td>13-18</td>\n",
       "      <td>Intelligent, energetic, affectionate, good-nat...</td>\n",
       "      <td>Dental problems, eye problems, skin allergies</td>\n",
       "      <td>18</td>\n",
       "    </tr>\n",
       "    <tr>\n",
       "      <th>Pomeranian</th>\n",
       "      <td>Germany</td>\n",
       "      <td>Orange, Sable, Black</td>\n",
       "      <td>6-7</td>\n",
       "      <td>Brown</td>\n",
       "      <td>12-16</td>\n",
       "      <td>Playful, energetic, intelligent, good-natured</td>\n",
       "      <td>Dental problems, eye problems, obesity</td>\n",
       "      <td>16</td>\n",
       "    </tr>\n",
       "    <tr>\n",
       "      <th>Border Terrier</th>\n",
       "      <td>England</td>\n",
       "      <td>Red, Wheaten, Black</td>\n",
       "      <td>10-16</td>\n",
       "      <td>Brown</td>\n",
       "      <td>12-16</td>\n",
       "      <td>Intelligent, energetic, playful, good-natured</td>\n",
       "      <td>Dental problems, skin allergies, hip dysplasia</td>\n",
       "      <td>16</td>\n",
       "    </tr>\n",
       "    <tr>\n",
       "      <th>Papillon</th>\n",
       "      <td>France</td>\n",
       "      <td>White, Black, Sable, Red</td>\n",
       "      <td>8-11</td>\n",
       "      <td>Brown</td>\n",
       "      <td>14-16</td>\n",
       "      <td>Intelligent, energetic, affectionate, good-nat...</td>\n",
       "      <td>Dental problems, eye problems, bladder stones</td>\n",
       "      <td>16</td>\n",
       "    </tr>\n",
       "  </tbody>\n",
       "</table>\n",
       "</div>"
      ],
      "text/plain": [
       "                Country of Origin                 Fur Color Height (in)  \\\n",
       "Breed                                                                     \n",
       "Chihuahua                  Mexico  Black, Brown, Tan, White         6-9   \n",
       "Chinese Crested             China        Pink, White, Black       11-13   \n",
       "Pomeranian                Germany      Orange, Sable, Black         6-7   \n",
       "Border Terrier            England       Red, Wheaten, Black       10-16   \n",
       "Papillon                   France  White, Black, Sable, Red        8-11   \n",
       "\n",
       "                Color of Eyes Longevity (yrs)  \\\n",
       "Breed                                           \n",
       "Chihuahua         Brown, Blue           12-20   \n",
       "Chinese Crested         Brown           13-18   \n",
       "Pomeranian              Brown           12-16   \n",
       "Border Terrier          Brown           12-16   \n",
       "Papillon                Brown           14-16   \n",
       "\n",
       "                                                  Character Traits  \\\n",
       "Breed                                                                \n",
       "Chihuahua                   Loyal, energetic, confident, sensitive   \n",
       "Chinese Crested  Intelligent, energetic, affectionate, good-nat...   \n",
       "Pomeranian           Playful, energetic, intelligent, good-natured   \n",
       "Border Terrier       Intelligent, energetic, playful, good-natured   \n",
       "Papillon         Intelligent, energetic, affectionate, good-nat...   \n",
       "\n",
       "                                          Common Health Problems  \\\n",
       "Breed                                                              \n",
       "Chihuahua        Dental problems, eye issues, respiratory issues   \n",
       "Chinese Crested    Dental problems, eye problems, skin allergies   \n",
       "Pomeranian                Dental problems, eye problems, obesity   \n",
       "Border Terrier    Dental problems, skin allergies, hip dysplasia   \n",
       "Papillon           Dental problems, eye problems, bladder stones   \n",
       "\n",
       "                 Longevity (max)  \n",
       "Breed                             \n",
       "Chihuahua                     20  \n",
       "Chinese Crested               18  \n",
       "Pomeranian                    16  \n",
       "Border Terrier                16  \n",
       "Papillon                      16  "
      ]
     },
     "execution_count": 16,
     "metadata": {},
     "output_type": "execute_result"
    }
   ],
   "source": [
    "greater_than.head()"
   ]
  },
  {
   "cell_type": "markdown",
   "id": "37f0627e-633b-4c6c-80ab-7084b39f0bfb",
   "metadata": {
    "tags": []
   },
   "source": [
    "## Data Visualisation"
   ]
  },
  {
   "cell_type": "markdown",
   "id": "a9d7f76f-ccbe-4291-ab3b-0794e5ae0219",
   "metadata": {},
   "source": [
    "Number of breeds that originated in each country"
   ]
  },
  {
   "cell_type": "code",
   "execution_count": 17,
   "id": "8dc31bdf-8aca-4001-8471-afdebaec522c",
   "metadata": {},
   "outputs": [
    {
     "data": {
      "text/plain": [
       "<AxesSubplot: >"
      ]
     },
     "execution_count": 17,
     "metadata": {},
     "output_type": "execute_result"
    },
    {
     "data": {
      "image/png": "[encoded data removed]",
      "text/plain": [
       "<Figure size 640x480 with 1 Axes>"
      ]
     },
     "metadata": {},
     "output_type": "display_data"
    }
   ],
   "source": [
    "df['Country of Origin'].value_counts().plot(kind='bar')"
   ]
  },
  {
   "cell_type": "markdown",
   "id": "c7863c80-0df1-423a-b57f-040bf4ec09e7",
   "metadata": {
    "tags": []
   },
   "source": [
    "## Filtering based on 'Country of Origin'"
   ]
  },
  {
   "cell_type": "code",
   "execution_count": 18,
   "id": "530c8cc7-1347-4502-b900-438a66841383",
   "metadata": {},
   "outputs": [],
   "source": [
    "english_dogs = df[df['Country of Origin'] == 'England']"
   ]
  },
  {
   "cell_type": "code",
   "execution_count": 19,
   "id": "53ff389d-b59a-45ff-9750-e715274ac5b7",
   "metadata": {},
   "outputs": [
    {
     "data": {
      "text/html": [
       "<div>\n",
       "<style scoped>\n",
       "    .dataframe tbody tr th:only-of-type {\n",
       "        vertical-align: middle;\n",
       "    }\n",
       "\n",
       "    .dataframe tbody tr th {\n",
       "        vertical-align: top;\n",
       "    }\n",
       "\n",
       "    .dataframe thead th {\n",
       "        text-align: right;\n",
       "    }\n",
       "</style>\n",
       "<table border=\"1\" class=\"dataframe\">\n",
       "  <thead>\n",
       "    <tr style=\"text-align: right;\">\n",
       "      <th></th>\n",
       "      <th>Longevity (max)</th>\n",
       "    </tr>\n",
       "  </thead>\n",
       "  <tbody>\n",
       "    <tr>\n",
       "      <th>count</th>\n",
       "      <td>24.000000</td>\n",
       "    </tr>\n",
       "    <tr>\n",
       "      <th>mean</th>\n",
       "      <td>13.708333</td>\n",
       "    </tr>\n",
       "    <tr>\n",
       "      <th>std</th>\n",
       "      <td>1.654484</td>\n",
       "    </tr>\n",
       "    <tr>\n",
       "      <th>min</th>\n",
       "      <td>10.000000</td>\n",
       "    </tr>\n",
       "    <tr>\n",
       "      <th>25%</th>\n",
       "      <td>12.000000</td>\n",
       "    </tr>\n",
       "    <tr>\n",
       "      <th>50%</th>\n",
       "      <td>14.000000</td>\n",
       "    </tr>\n",
       "    <tr>\n",
       "      <th>75%</th>\n",
       "      <td>15.000000</td>\n",
       "    </tr>\n",
       "    <tr>\n",
       "      <th>max</th>\n",
       "      <td>16.000000</td>\n",
       "    </tr>\n",
       "  </tbody>\n",
       "</table>\n",
       "</div>"
      ],
      "text/plain": [
       "       Longevity (max)\n",
       "count        24.000000\n",
       "mean         13.708333\n",
       "std           1.654484\n",
       "min          10.000000\n",
       "25%          12.000000\n",
       "50%          14.000000\n",
       "75%          15.000000\n",
       "max          16.000000"
      ]
     },
     "execution_count": 19,
     "metadata": {},
     "output_type": "execute_result"
    }
   ],
   "source": [
    "english_dogs.describe()"
   ]
  },
  {
   "cell_type": "code",
   "execution_count": 20,
   "id": "3ab33d4b-138f-448c-9f4a-735aa2931f94",
   "metadata": {},
   "outputs": [
    {
     "data": {
      "text/html": [
       "<div>\n",
       "<style scoped>\n",
       "    .dataframe tbody tr th:only-of-type {\n",
       "        vertical-align: middle;\n",
       "    }\n",
       "\n",
       "    .dataframe tbody tr th {\n",
       "        vertical-align: top;\n",
       "    }\n",
       "\n",
       "    .dataframe thead th {\n",
       "        text-align: right;\n",
       "    }\n",
       "</style>\n",
       "<table border=\"1\" class=\"dataframe\">\n",
       "  <thead>\n",
       "    <tr style=\"text-align: right;\">\n",
       "      <th></th>\n",
       "      <th>Country of Origin</th>\n",
       "      <th>Fur Color</th>\n",
       "      <th>Height (in)</th>\n",
       "      <th>Color of Eyes</th>\n",
       "      <th>Longevity (yrs)</th>\n",
       "      <th>Character Traits</th>\n",
       "      <th>Common Health Problems</th>\n",
       "      <th>Longevity (max)</th>\n",
       "    </tr>\n",
       "    <tr>\n",
       "      <th>Breed</th>\n",
       "      <th></th>\n",
       "      <th></th>\n",
       "      <th></th>\n",
       "      <th></th>\n",
       "      <th></th>\n",
       "      <th></th>\n",
       "      <th></th>\n",
       "      <th></th>\n",
       "    </tr>\n",
       "  </thead>\n",
       "  <tbody>\n",
       "    <tr>\n",
       "      <th>Border Terrier</th>\n",
       "      <td>England</td>\n",
       "      <td>Red, Wheaten, Black</td>\n",
       "      <td>10-16</td>\n",
       "      <td>Brown</td>\n",
       "      <td>12-16</td>\n",
       "      <td>Intelligent, energetic, playful, good-natured</td>\n",
       "      <td>Dental problems, skin allergies, hip dysplasia</td>\n",
       "      <td>16</td>\n",
       "    </tr>\n",
       "    <tr>\n",
       "      <th>Jack Russell Terrier</th>\n",
       "      <td>England</td>\n",
       "      <td>White, Black &amp; Tan</td>\n",
       "      <td>10-12</td>\n",
       "      <td>Brown</td>\n",
       "      <td>12-15</td>\n",
       "      <td>Intelligent, energetic, playful, good-natured</td>\n",
       "      <td>Dental problems, eye issues, skin allergies</td>\n",
       "      <td>15</td>\n",
       "    </tr>\n",
       "    <tr>\n",
       "      <th>Border Collie</th>\n",
       "      <td>England</td>\n",
       "      <td>Black, White, Red</td>\n",
       "      <td>18-22</td>\n",
       "      <td>Brown</td>\n",
       "      <td>12-15</td>\n",
       "      <td>Intelligent, energetic, playful, good-natured</td>\n",
       "      <td>Dental problems, eye issues, skin allergies</td>\n",
       "      <td>15</td>\n",
       "    </tr>\n",
       "    <tr>\n",
       "      <th>Pointer</th>\n",
       "      <td>England</td>\n",
       "      <td>Black, White, Liver</td>\n",
       "      <td>21-27</td>\n",
       "      <td>Brown</td>\n",
       "      <td>12-15</td>\n",
       "      <td>Intelligent, energetic, good-natured, affectio...</td>\n",
       "      <td>Hip dysplasia, eye problems, cancer</td>\n",
       "      <td>15</td>\n",
       "    </tr>\n",
       "    <tr>\n",
       "      <th>English Setter</th>\n",
       "      <td>England</td>\n",
       "      <td>Black, White, Liver</td>\n",
       "      <td>23-27</td>\n",
       "      <td>Brown</td>\n",
       "      <td>12-15</td>\n",
       "      <td>Intelligent, energetic, affectionate, good-nat...</td>\n",
       "      <td>Hip dysplasia, eye problems, cancer</td>\n",
       "      <td>15</td>\n",
       "    </tr>\n",
       "    <tr>\n",
       "      <th>Beagle</th>\n",
       "      <td>England</td>\n",
       "      <td>White, Tan, Red, Lemon</td>\n",
       "      <td>13-15</td>\n",
       "      <td>Brown</td>\n",
       "      <td>12-15</td>\n",
       "      <td>Curious, friendly, energetic, good-natured</td>\n",
       "      <td>Ear infections, hip dysplasia, epilepsy</td>\n",
       "      <td>15</td>\n",
       "    </tr>\n",
       "    <tr>\n",
       "      <th>Cocker Spaniel</th>\n",
       "      <td>England</td>\n",
       "      <td>Black, Brown</td>\n",
       "      <td>14-15</td>\n",
       "      <td>Brown</td>\n",
       "      <td>12-15</td>\n",
       "      <td>Intelligent, energetic, playful, good-natured</td>\n",
       "      <td>Dental problems, eye issues, skin allergies</td>\n",
       "      <td>15</td>\n",
       "    </tr>\n",
       "    <tr>\n",
       "      <th>Cocker Spaniel</th>\n",
       "      <td>England</td>\n",
       "      <td>Black, Brown</td>\n",
       "      <td>14-15</td>\n",
       "      <td>Brown</td>\n",
       "      <td>12-15</td>\n",
       "      <td>Affectionate, intelligent, energetic, good-nat...</td>\n",
       "      <td>Ear infections, hip dysplasia, eye problems</td>\n",
       "      <td>15</td>\n",
       "    </tr>\n",
       "    <tr>\n",
       "      <th>Whippet</th>\n",
       "      <td>England</td>\n",
       "      <td>White, Black, Red</td>\n",
       "      <td>18-22</td>\n",
       "      <td>Brown</td>\n",
       "      <td>12-15</td>\n",
       "      <td>Intelligent, energetic, good-natured, loyal</td>\n",
       "      <td>Dental problems, eye issues, skin allergies</td>\n",
       "      <td>15</td>\n",
       "    </tr>\n",
       "    <tr>\n",
       "      <th>Yorkshire Terrier</th>\n",
       "      <td>England</td>\n",
       "      <td>Blue &amp; Tan</td>\n",
       "      <td>7-8</td>\n",
       "      <td>Brown</td>\n",
       "      <td>12-15</td>\n",
       "      <td>Intelligent, energetic, playful, good-natured</td>\n",
       "      <td>Dental problems, eye issues, skin allergies</td>\n",
       "      <td>15</td>\n",
       "    </tr>\n",
       "    <tr>\n",
       "      <th>English Setter</th>\n",
       "      <td>England</td>\n",
       "      <td>Liver, Blue</td>\n",
       "      <td>25-27</td>\n",
       "      <td>Brown</td>\n",
       "      <td>12-14</td>\n",
       "      <td>Intelligent, energetic, playful, good-natured</td>\n",
       "      <td>Dental problems, eye issues, skin allergies</td>\n",
       "      <td>14</td>\n",
       "    </tr>\n",
       "    <tr>\n",
       "      <th>English Springer Spaniel</th>\n",
       "      <td>England</td>\n",
       "      <td>Black, White, Liver</td>\n",
       "      <td>20-24</td>\n",
       "      <td>Brown</td>\n",
       "      <td>12-14</td>\n",
       "      <td>Intelligent, energetic, playful, good-natured</td>\n",
       "      <td>Dental problems, eye issues, skin allergies</td>\n",
       "      <td>14</td>\n",
       "    </tr>\n",
       "    <tr>\n",
       "      <th>Field Spaniel</th>\n",
       "      <td>England</td>\n",
       "      <td>Black, Liver</td>\n",
       "      <td>15-18</td>\n",
       "      <td>Brown</td>\n",
       "      <td>12-14</td>\n",
       "      <td>Intelligent, energetic, playful, good-natured</td>\n",
       "      <td>Dental problems, eye issues, skin allergies</td>\n",
       "      <td>14</td>\n",
       "    </tr>\n",
       "    <tr>\n",
       "      <th>Flat-Coated Retriever</th>\n",
       "      <td>England</td>\n",
       "      <td>Black, Liver</td>\n",
       "      <td>22-25</td>\n",
       "      <td>Brown</td>\n",
       "      <td>12-14</td>\n",
       "      <td>Intelligent, energetic, playful, good-natured</td>\n",
       "      <td>Dental problems, eye issues, skin allergies</td>\n",
       "      <td>14</td>\n",
       "    </tr>\n",
       "    <tr>\n",
       "      <th>Harrier</th>\n",
       "      <td>England</td>\n",
       "      <td>Red, Black &amp; Tan</td>\n",
       "      <td>18-21</td>\n",
       "      <td>Brown</td>\n",
       "      <td>12-14</td>\n",
       "      <td>Intelligent, energetic, playful, good-natured</td>\n",
       "      <td>Dental problems, eye issues, skin allergies</td>\n",
       "      <td>14</td>\n",
       "    </tr>\n",
       "    <tr>\n",
       "      <th>English Toy Spaniel</th>\n",
       "      <td>England</td>\n",
       "      <td>White, Blenheim</td>\n",
       "      <td>10-12</td>\n",
       "      <td>Brown</td>\n",
       "      <td>12-14</td>\n",
       "      <td>Intelligent, energetic, playful, good-natured</td>\n",
       "      <td>Dental problems, skin allergies, hip dysplasia</td>\n",
       "      <td>14</td>\n",
       "    </tr>\n",
       "    <tr>\n",
       "      <th>Staffordshire Bull Terrier</th>\n",
       "      <td>England</td>\n",
       "      <td>White, Black, Red</td>\n",
       "      <td>14-16</td>\n",
       "      <td>Brown</td>\n",
       "      <td>12-14</td>\n",
       "      <td>Intelligent, energetic, playful, good-natured</td>\n",
       "      <td>Dental problems, eye issues, skin allergies</td>\n",
       "      <td>14</td>\n",
       "    </tr>\n",
       "    <tr>\n",
       "      <th>Old English Sheepdog</th>\n",
       "      <td>England</td>\n",
       "      <td>Blue, Grey</td>\n",
       "      <td>22-26</td>\n",
       "      <td>Brown</td>\n",
       "      <td>10-12</td>\n",
       "      <td>Gentle, intelligent, good-natured, protective</td>\n",
       "      <td>Hip dysplasia, eye problems, skin allergies</td>\n",
       "      <td>12</td>\n",
       "    </tr>\n",
       "    <tr>\n",
       "      <th>Greyhound</th>\n",
       "      <td>England</td>\n",
       "      <td>Black, White, Brindle</td>\n",
       "      <td>26-30</td>\n",
       "      <td>Brown</td>\n",
       "      <td>10-12</td>\n",
       "      <td>Intelligent, athletic, sensitive, good-natured</td>\n",
       "      <td>Hip dysplasia, eye problems, heart conditions</td>\n",
       "      <td>12</td>\n",
       "    </tr>\n",
       "    <tr>\n",
       "      <th>Greyhound</th>\n",
       "      <td>England</td>\n",
       "      <td>White, Black, Red</td>\n",
       "      <td>26-30</td>\n",
       "      <td>Brown</td>\n",
       "      <td>10-12</td>\n",
       "      <td>Intelligent, energetic, good-natured, loyal</td>\n",
       "      <td>Dental problems, eye issues, skin allergies</td>\n",
       "      <td>12</td>\n",
       "    </tr>\n",
       "    <tr>\n",
       "      <th>Bloodhound</th>\n",
       "      <td>England</td>\n",
       "      <td>Red, Black</td>\n",
       "      <td>22-27</td>\n",
       "      <td>Brown</td>\n",
       "      <td>10-12</td>\n",
       "      <td>Loyal, intelligent, good-natured, energetic</td>\n",
       "      <td>Dental problems, eye issues, skin allergies</td>\n",
       "      <td>12</td>\n",
       "    </tr>\n",
       "    <tr>\n",
       "      <th>Bull Terrier</th>\n",
       "      <td>England</td>\n",
       "      <td>White, Red</td>\n",
       "      <td>20-22</td>\n",
       "      <td>Brown</td>\n",
       "      <td>10-12</td>\n",
       "      <td>Loyal, intelligent, good-natured, energetic</td>\n",
       "      <td>Dental problems, eye issues, skin allergies</td>\n",
       "      <td>12</td>\n",
       "    </tr>\n",
       "    <tr>\n",
       "      <th>Bulldog</th>\n",
       "      <td>England</td>\n",
       "      <td>White, Red</td>\n",
       "      <td>12-16</td>\n",
       "      <td>Brown</td>\n",
       "      <td>8-10</td>\n",
       "      <td>Loyal, calm, gentle, brave</td>\n",
       "      <td>Skin allergies, respiratory issues, obesity</td>\n",
       "      <td>10</td>\n",
       "    </tr>\n",
       "    <tr>\n",
       "      <th>Mastiff</th>\n",
       "      <td>England</td>\n",
       "      <td>Apricot, Fawn</td>\n",
       "      <td>30-34</td>\n",
       "      <td>Brown</td>\n",
       "      <td>8-10</td>\n",
       "      <td>Loyal, gentle, protective, good-natured</td>\n",
       "      <td>Hip dysplasia, heart conditions, cancer</td>\n",
       "      <td>10</td>\n",
       "    </tr>\n",
       "  </tbody>\n",
       "</table>\n",
       "</div>"
      ],
      "text/plain": [
       "                           Country of Origin               Fur Color  \\\n",
       "Breed                                                                  \n",
       "Border Terrier                       England     Red, Wheaten, Black   \n",
       "Jack Russell Terrier                 England      White, Black & Tan   \n",
       "Border Collie                        England       Black, White, Red   \n",
       "Pointer                              England     Black, White, Liver   \n",
       "English Setter                       England     Black, White, Liver   \n",
       "Beagle                               England  White, Tan, Red, Lemon   \n",
       "Cocker Spaniel                       England            Black, Brown   \n",
       "Cocker Spaniel                       England            Black, Brown   \n",
       "Whippet                              England       White, Black, Red   \n",
       "Yorkshire Terrier                    England              Blue & Tan   \n",
       "English Setter                       England             Liver, Blue   \n",
       "English Springer Spaniel             England     Black, White, Liver   \n",
       "Field Spaniel                        England            Black, Liver   \n",
       "Flat-Coated Retriever                England            Black, Liver   \n",
       "Harrier                              England        Red, Black & Tan   \n",
       "English Toy Spaniel                  England         White, Blenheim   \n",
       "Staffordshire Bull Terrier           England       White, Black, Red   \n",
       "Old English Sheepdog                 England              Blue, Grey   \n",
       "Greyhound                            England   Black, White, Brindle   \n",
       "Greyhound                            England       White, Black, Red   \n",
       "Bloodhound                           England              Red, Black   \n",
       "Bull Terrier                         England              White, Red   \n",
       "Bulldog                              England              White, Red   \n",
       "Mastiff                              England           Apricot, Fawn   \n",
       "\n",
       "                           Height (in) Color of Eyes Longevity (yrs)  \\\n",
       "Breed                                                                  \n",
       "Border Terrier                   10-16         Brown           12-16   \n",
       "Jack Russell Terrier             10-12         Brown           12-15   \n",
       "Border Collie                    18-22         Brown           12-15   \n",
       "Pointer                          21-27         Brown           12-15   \n",
       "English Setter                   23-27         Brown           12-15   \n",
       "Beagle                           13-15         Brown           12-15   \n",
       "Cocker Spaniel                   14-15         Brown           12-15   \n",
       "Cocker Spaniel                   14-15         Brown           12-15   \n",
       "Whippet                          18-22         Brown           12-15   \n",
       "Yorkshire Terrier                  7-8         Brown           12-15   \n",
       "English Setter                   25-27         Brown           12-14   \n",
       "English Springer Spaniel         20-24         Brown           12-14   \n",
       "Field Spaniel                    15-18         Brown           12-14   \n",
       "Flat-Coated Retriever            22-25         Brown           12-14   \n",
       "Harrier                          18-21         Brown           12-14   \n",
       "English Toy Spaniel              10-12         Brown           12-14   \n",
       "Staffordshire Bull Terrier       14-16         Brown           12-14   \n",
       "Old English Sheepdog             22-26         Brown           10-12   \n",
       "Greyhound                        26-30         Brown           10-12   \n",
       "Greyhound                        26-30         Brown           10-12   \n",
       "Bloodhound                       22-27         Brown           10-12   \n",
       "Bull Terrier                     20-22         Brown           10-12   \n",
       "Bulldog                          12-16         Brown            8-10   \n",
       "Mastiff                          30-34         Brown            8-10   \n",
       "\n",
       "                                                             Character Traits  \\\n",
       "Breed                                                                           \n",
       "Border Terrier                  Intelligent, energetic, playful, good-natured   \n",
       "Jack Russell Terrier            Intelligent, energetic, playful, good-natured   \n",
       "Border Collie                   Intelligent, energetic, playful, good-natured   \n",
       "Pointer                     Intelligent, energetic, good-natured, affectio...   \n",
       "English Setter              Intelligent, energetic, affectionate, good-nat...   \n",
       "Beagle                             Curious, friendly, energetic, good-natured   \n",
       "Cocker Spaniel                  Intelligent, energetic, playful, good-natured   \n",
       "Cocker Spaniel              Affectionate, intelligent, energetic, good-nat...   \n",
       "Whippet                           Intelligent, energetic, good-natured, loyal   \n",
       "Yorkshire Terrier               Intelligent, energetic, playful, good-natured   \n",
       "English Setter                  Intelligent, energetic, playful, good-natured   \n",
       "English Springer Spaniel        Intelligent, energetic, playful, good-natured   \n",
       "Field Spaniel                   Intelligent, energetic, playful, good-natured   \n",
       "Flat-Coated Retriever           Intelligent, energetic, playful, good-natured   \n",
       "Harrier                         Intelligent, energetic, playful, good-natured   \n",
       "English Toy Spaniel             Intelligent, energetic, playful, good-natured   \n",
       "Staffordshire Bull Terrier      Intelligent, energetic, playful, good-natured   \n",
       "Old English Sheepdog            Gentle, intelligent, good-natured, protective   \n",
       "Greyhound                      Intelligent, athletic, sensitive, good-natured   \n",
       "Greyhound                         Intelligent, energetic, good-natured, loyal   \n",
       "Bloodhound                        Loyal, intelligent, good-natured, energetic   \n",
       "Bull Terrier                      Loyal, intelligent, good-natured, energetic   \n",
       "Bulldog                                            Loyal, calm, gentle, brave   \n",
       "Mastiff                               Loyal, gentle, protective, good-natured   \n",
       "\n",
       "                                                    Common Health Problems  \\\n",
       "Breed                                                                        \n",
       "Border Terrier              Dental problems, skin allergies, hip dysplasia   \n",
       "Jack Russell Terrier           Dental problems, eye issues, skin allergies   \n",
       "Border Collie                  Dental problems, eye issues, skin allergies   \n",
       "Pointer                                Hip dysplasia, eye problems, cancer   \n",
       "English Setter                         Hip dysplasia, eye problems, cancer   \n",
       "Beagle                             Ear infections, hip dysplasia, epilepsy   \n",
       "Cocker Spaniel                 Dental problems, eye issues, skin allergies   \n",
       "Cocker Spaniel                 Ear infections, hip dysplasia, eye problems   \n",
       "Whippet                        Dental problems, eye issues, skin allergies   \n",
       "Yorkshire Terrier              Dental problems, eye issues, skin allergies   \n",
       "English Setter                 Dental problems, eye issues, skin allergies   \n",
       "English Springer Spaniel       Dental problems, eye issues, skin allergies   \n",
       "Field Spaniel                  Dental problems, eye issues, skin allergies   \n",
       "Flat-Coated Retriever          Dental problems, eye issues, skin allergies   \n",
       "Harrier                        Dental problems, eye issues, skin allergies   \n",
       "English Toy Spaniel         Dental problems, skin allergies, hip dysplasia   \n",
       "Staffordshire Bull Terrier     Dental problems, eye issues, skin allergies   \n",
       "Old English Sheepdog           Hip dysplasia, eye problems, skin allergies   \n",
       "Greyhound                    Hip dysplasia, eye problems, heart conditions   \n",
       "Greyhound                      Dental problems, eye issues, skin allergies   \n",
       "Bloodhound                     Dental problems, eye issues, skin allergies   \n",
       "Bull Terrier                   Dental problems, eye issues, skin allergies   \n",
       "Bulldog                        Skin allergies, respiratory issues, obesity   \n",
       "Mastiff                            Hip dysplasia, heart conditions, cancer   \n",
       "\n",
       "                            Longevity (max)  \n",
       "Breed                                        \n",
       "Border Terrier                           16  \n",
       "Jack Russell Terrier                     15  \n",
       "Border Collie                            15  \n",
       "Pointer                                  15  \n",
       "English Setter                           15  \n",
       "Beagle                                   15  \n",
       "Cocker Spaniel                           15  \n",
       "Cocker Spaniel                           15  \n",
       "Whippet                                  15  \n",
       "Yorkshire Terrier                        15  \n",
       "English Setter                           14  \n",
       "English Springer Spaniel                 14  \n",
       "Field Spaniel                            14  \n",
       "Flat-Coated Retriever                    14  \n",
       "Harrier                                  14  \n",
       "English Toy Spaniel                      14  \n",
       "Staffordshire Bull Terrier               14  \n",
       "Old English Sheepdog                     12  \n",
       "Greyhound                                12  \n",
       "Greyhound                                12  \n",
       "Bloodhound                               12  \n",
       "Bull Terrier                             12  \n",
       "Bulldog                                  10  \n",
       "Mastiff                                  10  "
      ]
     },
     "execution_count": 20,
     "metadata": {},
     "output_type": "execute_result"
    }
   ],
   "source": [
    "english_dogs"
   ]
  },
  {
   "cell_type": "markdown",
   "id": "af890b76-82ad-46df-a7c5-175a4d810531",
   "metadata": {},
   "source": [
    "## Calculating a Correlation Matrix with Pandas"
   ]
  },
  {
   "cell_type": "markdown",
   "id": "a9fb6950-daf8-4977-a990-0bb4a0dfa24b",
   "metadata": {},
   "source": [
    "Deconcatenate from \"Height (in)\" and established a \"Height (max)\" column in order to isolate the maximum height range for each breed"
   ]
  },
  {
   "cell_type": "code",
   "execution_count": 21,
   "id": "ffe758fa-5ed2-4b56-8d41-f149b25017a3",
   "metadata": {},
   "outputs": [
    {
     "name": "stderr",
     "output_type": "stream",
     "text": [
      "C:\\Users\\Desiree\\AppData\\Local\\Temp\\ipykernel_23688\\2727542898.py:1: FutureWarning: The default value of regex will change from True to False in a future version.\n",
      "  df['Height (max)'] = df['Height (in)'].str.replace(r'\\d+-','')\n"
     ]
    }
   ],
   "source": [
    "df['Height (max)'] = df['Height (in)'].str.replace(r'\\d+-','')"
   ]
  },
  {
   "cell_type": "markdown",
   "id": "c44f9634-05cf-4548-a6a8-5b7037cbccc6",
   "metadata": {},
   "source": [
    "Changed 'Height (max) to a numeric column"
   ]
  },
  {
   "cell_type": "code",
   "execution_count": 22,
   "id": "9649fec7-99e1-4a33-926f-57e8886d69c2",
   "metadata": {},
   "outputs": [],
   "source": [
    "df[['Height (max)']] = df[['Height (max)']].apply(pd.to_numeric)"
   ]
  },
  {
   "cell_type": "markdown",
   "id": "9f8bff93-4d92-43cc-ab40-c22a3628ba2d",
   "metadata": {},
   "source": [
    "Filtered out all the nonnumeric columns"
   ]
  },
  {
   "cell_type": "code",
   "execution_count": 23,
   "id": "f9eb821d-5883-43b1-8dd2-5f9e99e77a0b",
   "metadata": {},
   "outputs": [],
   "source": [
    "df = df[['Longevity (max)', 'Height (max)']]"
   ]
  },
  {
   "cell_type": "markdown",
   "id": "a5e889e5-727f-4f7e-a3a7-14e451fce1bf",
   "metadata": {},
   "source": [
    "Reviewed correlation between numeric columns"
   ]
  },
  {
   "cell_type": "code",
   "execution_count": 24,
   "id": "634fd79c-ca5a-4597-a648-114c76bd32f1",
   "metadata": {},
   "outputs": [
    {
     "data": {
      "text/html": [
       "<div>\n",
       "<style scoped>\n",
       "    .dataframe tbody tr th:only-of-type {\n",
       "        vertical-align: middle;\n",
       "    }\n",
       "\n",
       "    .dataframe tbody tr th {\n",
       "        vertical-align: top;\n",
       "    }\n",
       "\n",
       "    .dataframe thead th {\n",
       "        text-align: right;\n",
       "    }\n",
       "</style>\n",
       "<table border=\"1\" class=\"dataframe\">\n",
       "  <thead>\n",
       "    <tr style=\"text-align: right;\">\n",
       "      <th></th>\n",
       "      <th>Longevity (max)</th>\n",
       "      <th>Height (max)</th>\n",
       "    </tr>\n",
       "  </thead>\n",
       "  <tbody>\n",
       "    <tr>\n",
       "      <th>Longevity (max)</th>\n",
       "      <td>1.000000</td>\n",
       "      <td>-0.648583</td>\n",
       "    </tr>\n",
       "    <tr>\n",
       "      <th>Height (max)</th>\n",
       "      <td>-0.648583</td>\n",
       "      <td>1.000000</td>\n",
       "    </tr>\n",
       "  </tbody>\n",
       "</table>\n",
       "</div>"
      ],
      "text/plain": [
       "                 Longevity (max)  Height (max)\n",
       "Longevity (max)         1.000000     -0.648583\n",
       "Height (max)           -0.648583      1.000000"
      ]
     },
     "execution_count": 24,
     "metadata": {},
     "output_type": "execute_result"
    }
   ],
   "source": [
    "df.corr()"
   ]
  },
  {
   "cell_type": "markdown",
   "id": "2b36148f-9a91-4d95-a4ca-17b5ca660eec",
   "metadata": {},
   "source": [
    "Seaborn Correlation Heatmap"
   ]
  },
  {
   "cell_type": "code",
   "execution_count": 25,
   "id": "59cf8b59-fee0-4035-9dba-55dec1b60ce4",
   "metadata": {},
   "outputs": [
    {
     "data": {
      "text/plain": [
       "<Figure size 400x400 with 0 Axes>"
      ]
     },
     "execution_count": 25,
     "metadata": {},
     "output_type": "execute_result"
    },
    {
     "data": {
      "text/plain": [
       "<Figure size 400x400 with 0 Axes>"
      ]
     },
     "metadata": {},
     "output_type": "display_data"
    }
   ],
   "source": [
    "plt.figure(figsize=(4,4))"
   ]
  },
  {
   "cell_type": "code",
   "execution_count": 26,
   "id": "ce471331-26b5-47e1-9bdd-cbecadd0b92c",
   "metadata": {},
   "outputs": [
    {
     "data": {
      "text/plain": [
       "<AxesSubplot: >"
      ]
     },
     "execution_count": 26,
     "metadata": {},
     "output_type": "execute_result"
    },
    {
     "data": {
      "image/png": "[encoded data removed]",
      "text/plain": [
       "<Figure size 640x480 with 2 Axes>"
      ]
     },
     "metadata": {},
     "output_type": "display_data"
    }
   ],
   "source": [
    "seaborn.heatmap(df.corr(), annot=True, cmap='coolwarm')"
   ]
  }
 ],
 "metadata": {
  "kernelspec": {
   "display_name": "Python 3 (ipykernel)",
   "language": "python",
   "name": "python3"
  },
  "language_info": {
   "codemirror_mode": {
    "name": "ipython",
    "version": 3
   },
   "file_extension": ".py",
   "mimetype": "text/x-python",
   "name": "python",
   "nbconvert_exporter": "python",
   "pygments_lexer": "ipython3",
   "version": "3.9.16"
  }
 },
 "nbformat": 4,
 "nbformat_minor": 5
}
